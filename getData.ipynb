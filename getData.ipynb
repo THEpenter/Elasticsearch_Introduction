{
 "cells": [
  {
   "cell_type": "code",
   "execution_count": 1,
   "metadata": {},
   "outputs": [],
   "source": [
    "import requests\n",
    "from bs4 import BeautifulSoup\n",
    "import pandas as pd"
   ]
  },
  {
   "cell_type": "code",
   "execution_count": 2,
   "metadata": {},
   "outputs": [],
   "source": [
    "url = \"https://en.wikipedia.org/wiki/List_of_generation_I_Pok%C3%A9mon\"\n",
    "\n",
    "response = requests.get(url)\n",
    "soup = BeautifulSoup(response.text, \"html.parser\")"
   ]
  },
  {
   "cell_type": "code",
   "execution_count": 3,
   "metadata": {},
   "outputs": [],
   "source": [
    "tables = soup.find_all(\"table\")\n",
    "\n",
    "# Search for the table with the specific caption\n",
    "target_table = None\n",
    "for table in tables:\n",
    "    if table.caption and \"List of Pokémon species introduced in Generation I (1996)\" in table.caption.get_text():\n",
    "        target_table = table\n",
    "        break"
   ]
  },
  {
   "cell_type": "code",
   "execution_count": 4,
   "metadata": {},
   "outputs": [
    {
     "data": {
      "text/html": [
       "<div>\n",
       "<style scoped>\n",
       "    .dataframe tbody tr th:only-of-type {\n",
       "        vertical-align: middle;\n",
       "    }\n",
       "\n",
       "    .dataframe tbody tr th {\n",
       "        vertical-align: top;\n",
       "    }\n",
       "\n",
       "    .dataframe thead tr th {\n",
       "        text-align: left;\n",
       "    }\n",
       "</style>\n",
       "<table border=\"1\" class=\"dataframe\">\n",
       "  <thead>\n",
       "    <tr>\n",
       "      <th></th>\n",
       "      <th colspan=\"2\" halign=\"left\">Name</th>\n",
       "      <th>National Pokédex number</th>\n",
       "      <th colspan=\"2\" halign=\"left\">Type(s)</th>\n",
       "      <th>Evolves from</th>\n",
       "      <th>Evolves into</th>\n",
       "      <th>Notes</th>\n",
       "    </tr>\n",
       "    <tr>\n",
       "      <th></th>\n",
       "      <th>English</th>\n",
       "      <th>Japanese</th>\n",
       "      <th>National Pokédex number</th>\n",
       "      <th>Primary</th>\n",
       "      <th>Secondary</th>\n",
       "      <th>Evolves from</th>\n",
       "      <th>Evolves into</th>\n",
       "      <th>Notes</th>\n",
       "    </tr>\n",
       "  </thead>\n",
       "  <tbody>\n",
       "    <tr>\n",
       "      <th>0</th>\n",
       "      <td>Bulbasaur</td>\n",
       "      <td>Fushigidane (フシギダネ)</td>\n",
       "      <td>0001</td>\n",
       "      <td>Grass</td>\n",
       "      <td>Poison</td>\n",
       "      <td>Beginning of evolution</td>\n",
       "      <td>Ivysaur (#002)</td>\n",
       "      <td>It uses the nutrients that are stored in the s...</td>\n",
       "    </tr>\n",
       "    <tr>\n",
       "      <th>1</th>\n",
       "      <td>Ivysaur</td>\n",
       "      <td>Fushigisō (フシギソウ)</td>\n",
       "      <td>0002</td>\n",
       "      <td>Grass</td>\n",
       "      <td>Poison</td>\n",
       "      <td>Bulbasaur (#001)</td>\n",
       "      <td>Venusaur (#003)</td>\n",
       "      <td>When it's exposed to sunlight, the seed, now a...</td>\n",
       "    </tr>\n",
       "    <tr>\n",
       "      <th>2</th>\n",
       "      <td>Venusaur</td>\n",
       "      <td>Fushigibana (フシギバナ)</td>\n",
       "      <td>0003</td>\n",
       "      <td>Grass</td>\n",
       "      <td>Poison</td>\n",
       "      <td>Ivysaur (#002)</td>\n",
       "      <td>Mega Evolution Gigantamax</td>\n",
       "      <td>Its English name is a portmanteau of \"Venus\" (...</td>\n",
       "    </tr>\n",
       "    <tr>\n",
       "      <th>3</th>\n",
       "      <td>Charmander</td>\n",
       "      <td>Hitokage (ヒトカゲ)</td>\n",
       "      <td>0004</td>\n",
       "      <td>Fire</td>\n",
       "      <td>Fire</td>\n",
       "      <td>Beginning of evolution</td>\n",
       "      <td>Charmeleon (#005)</td>\n",
       "      <td>Charmander is a bipedal, salamander-like creat...</td>\n",
       "    </tr>\n",
       "    <tr>\n",
       "      <th>4</th>\n",
       "      <td>Charmeleon</td>\n",
       "      <td>Rizādo (リザード)</td>\n",
       "      <td>0005</td>\n",
       "      <td>Fire</td>\n",
       "      <td>Fire</td>\n",
       "      <td>Charmander (#004)</td>\n",
       "      <td>Charizard (#006)</td>\n",
       "      <td>Charmeleon is similar to Charmander yet larger...</td>\n",
       "    </tr>\n",
       "  </tbody>\n",
       "</table>\n",
       "</div>"
      ],
      "text/plain": [
       "         Name                      National Pokédex number Type(s)             \n",
       "      English             Japanese National Pokédex number Primary Secondary   \n",
       "0   Bulbasaur  Fushigidane (フシギダネ)                    0001   Grass    Poison  \\\n",
       "1     Ivysaur    Fushigisō (フシギソウ)                    0002   Grass    Poison   \n",
       "2    Venusaur  Fushigibana (フシギバナ)                    0003   Grass    Poison   \n",
       "3  Charmander      Hitokage (ヒトカゲ)                    0004    Fire      Fire   \n",
       "4  Charmeleon        Rizādo (リザード)                    0005    Fire      Fire   \n",
       "\n",
       "             Evolves from               Evolves into   \n",
       "             Evolves from               Evolves into   \n",
       "0  Beginning of evolution             Ivysaur (#002)  \\\n",
       "1        Bulbasaur (#001)            Venusaur (#003)   \n",
       "2          Ivysaur (#002)  Mega Evolution Gigantamax   \n",
       "3  Beginning of evolution          Charmeleon (#005)   \n",
       "4       Charmander (#004)           Charizard (#006)   \n",
       "\n",
       "                                               Notes  \n",
       "                                               Notes  \n",
       "0  It uses the nutrients that are stored in the s...  \n",
       "1  When it's exposed to sunlight, the seed, now a...  \n",
       "2  Its English name is a portmanteau of \"Venus\" (...  \n",
       "3  Charmander is a bipedal, salamander-like creat...  \n",
       "4  Charmeleon is similar to Charmander yet larger...  "
      ]
     },
     "execution_count": 4,
     "metadata": {},
     "output_type": "execute_result"
    }
   ],
   "source": [
    "df = pd.read_html(str(target_table))[0]\n",
    "df.head()"
   ]
  },
  {
   "cell_type": "code",
   "execution_count": 5,
   "metadata": {},
   "outputs": [
    {
     "data": {
      "text/plain": [
       "MultiIndex([(                   'Name',                 'English'),\n",
       "            (                   'Name',                'Japanese'),\n",
       "            ('National Pokédex number', 'National Pokédex number'),\n",
       "            (                'Type(s)',                 'Primary'),\n",
       "            (                'Type(s)',               'Secondary'),\n",
       "            (           'Evolves from',            'Evolves from'),\n",
       "            (           'Evolves into',            'Evolves into'),\n",
       "            (                  'Notes',                   'Notes')],\n",
       "           )"
      ]
     },
     "execution_count": 5,
     "metadata": {},
     "output_type": "execute_result"
    }
   ],
   "source": [
    "df.columns"
   ]
  },
  {
   "cell_type": "code",
   "execution_count": 18,
   "metadata": {},
   "outputs": [],
   "source": [
    "# assume your DataFrame is named `df`\n",
    "cols_to_keep = [('Name', 'English'),('National Pokédex number','National Pokédex number'), ('Type(s)', 'Primary'), ('Type(s)', 'Secondary'), ('Evolves from', 'Evolves from'), ('Evolves into', 'Evolves into'), ('Notes', 'Notes')]\n",
    "\n",
    "# select only the relevant columns using loc[]\n",
    "df_subset = df.loc[:, cols_to_keep]\n",
    "\n",
    "# flatten the MultiIndex by joining the column levels with '_'\n",
    "df_subset.columns = ['_'.join(col).strip() for col in df_subset.columns.values]\n",
    "\n",
    "# rename the columns as desired\n",
    "df_subset = df_subset.rename(columns={'Name_English': 'Name',\n",
    "                                      'National Pokédex number_National Pokédex number':'PokeIndex',\n",
    "                                      'Type(s)_Primary': 'Primary type',\n",
    "                                      'Type(s)_Secondary': 'Secondary type',\n",
    "                                      'Evolves from_Evolves from': 'Evolves from',\n",
    "                                      'Evolves into_Evolves into': 'Evolves into',\n",
    "                                      'Notes_Notes': 'Notes'})"
   ]
  },
  {
   "cell_type": "code",
   "execution_count": 19,
   "metadata": {},
   "outputs": [
    {
     "data": {
      "text/html": [
       "<div>\n",
       "<style scoped>\n",
       "    .dataframe tbody tr th:only-of-type {\n",
       "        vertical-align: middle;\n",
       "    }\n",
       "\n",
       "    .dataframe tbody tr th {\n",
       "        vertical-align: top;\n",
       "    }\n",
       "\n",
       "    .dataframe thead th {\n",
       "        text-align: right;\n",
       "    }\n",
       "</style>\n",
       "<table border=\"1\" class=\"dataframe\">\n",
       "  <thead>\n",
       "    <tr style=\"text-align: right;\">\n",
       "      <th></th>\n",
       "      <th>Name</th>\n",
       "      <th>PokeIndex</th>\n",
       "      <th>Primary type</th>\n",
       "      <th>Secondary type</th>\n",
       "      <th>Evolves from</th>\n",
       "      <th>Evolves into</th>\n",
       "      <th>Notes</th>\n",
       "    </tr>\n",
       "  </thead>\n",
       "  <tbody>\n",
       "    <tr>\n",
       "      <th>0</th>\n",
       "      <td>Bulbasaur</td>\n",
       "      <td>0001</td>\n",
       "      <td>Grass</td>\n",
       "      <td>Poison</td>\n",
       "      <td>Beginning of evolution</td>\n",
       "      <td>Ivysaur (#002)</td>\n",
       "      <td>It uses the nutrients that are stored in the s...</td>\n",
       "    </tr>\n",
       "    <tr>\n",
       "      <th>1</th>\n",
       "      <td>Ivysaur</td>\n",
       "      <td>0002</td>\n",
       "      <td>Grass</td>\n",
       "      <td>Poison</td>\n",
       "      <td>Bulbasaur (#001)</td>\n",
       "      <td>Venusaur (#003)</td>\n",
       "      <td>When it's exposed to sunlight, the seed, now a...</td>\n",
       "    </tr>\n",
       "    <tr>\n",
       "      <th>2</th>\n",
       "      <td>Venusaur</td>\n",
       "      <td>0003</td>\n",
       "      <td>Grass</td>\n",
       "      <td>Poison</td>\n",
       "      <td>Ivysaur (#002)</td>\n",
       "      <td>Mega Evolution Gigantamax</td>\n",
       "      <td>Its English name is a portmanteau of \"Venus\" (...</td>\n",
       "    </tr>\n",
       "    <tr>\n",
       "      <th>3</th>\n",
       "      <td>Charmander</td>\n",
       "      <td>0004</td>\n",
       "      <td>Fire</td>\n",
       "      <td>Fire</td>\n",
       "      <td>Beginning of evolution</td>\n",
       "      <td>Charmeleon (#005)</td>\n",
       "      <td>Charmander is a bipedal, salamander-like creat...</td>\n",
       "    </tr>\n",
       "    <tr>\n",
       "      <th>4</th>\n",
       "      <td>Charmeleon</td>\n",
       "      <td>0005</td>\n",
       "      <td>Fire</td>\n",
       "      <td>Fire</td>\n",
       "      <td>Charmander (#004)</td>\n",
       "      <td>Charizard (#006)</td>\n",
       "      <td>Charmeleon is similar to Charmander yet larger...</td>\n",
       "    </tr>\n",
       "  </tbody>\n",
       "</table>\n",
       "</div>"
      ],
      "text/plain": [
       "         Name PokeIndex Primary type Secondary type            Evolves from   \n",
       "0   Bulbasaur      0001        Grass         Poison  Beginning of evolution  \\\n",
       "1     Ivysaur      0002        Grass         Poison        Bulbasaur (#001)   \n",
       "2    Venusaur      0003        Grass         Poison          Ivysaur (#002)   \n",
       "3  Charmander      0004         Fire           Fire  Beginning of evolution   \n",
       "4  Charmeleon      0005         Fire           Fire       Charmander (#004)   \n",
       "\n",
       "                Evolves into   \n",
       "0             Ivysaur (#002)  \\\n",
       "1            Venusaur (#003)   \n",
       "2  Mega Evolution Gigantamax   \n",
       "3          Charmeleon (#005)   \n",
       "4           Charizard (#006)   \n",
       "\n",
       "                                               Notes  \n",
       "0  It uses the nutrients that are stored in the s...  \n",
       "1  When it's exposed to sunlight, the seed, now a...  \n",
       "2  Its English name is a portmanteau of \"Venus\" (...  \n",
       "3  Charmander is a bipedal, salamander-like creat...  \n",
       "4  Charmeleon is similar to Charmander yet larger...  "
      ]
     },
     "execution_count": 19,
     "metadata": {},
     "output_type": "execute_result"
    }
   ],
   "source": [
    "df_subset.head()"
   ]
  },
  {
   "cell_type": "code",
   "execution_count": 21,
   "metadata": {},
   "outputs": [],
   "source": [
    "Pokemons=[]\n",
    "\n",
    "for row in df_subset.iterrows():\n",
    "    data=row[1]\n",
    "    dataDict={\n",
    "            \"PokeIndex\":data['PokeIndex'],\n",
    "            \"name\":data['Name'],\n",
    "            \"Primary type\":data['Primary type'],\n",
    "            \"Secondary type\":data['Secondary type'],\n",
    "            \"Evolves from\":data['Evolves from'],\n",
    "            \"Evolves into\":data['Evolves into'],\n",
    "            \"Notes\":data['Notes']\n",
    "    }\n",
    "    Pokemons.append(dataDict)"
   ]
  },
  {
   "cell_type": "code",
   "execution_count": 22,
   "metadata": {},
   "outputs": [
    {
     "data": {
      "text/plain": [
       "152"
      ]
     },
     "execution_count": 22,
     "metadata": {},
     "output_type": "execute_result"
    }
   ],
   "source": [
    "len(Pokemons)"
   ]
  },
  {
   "cell_type": "code",
   "execution_count": 23,
   "metadata": {},
   "outputs": [],
   "source": [
    "import json\n",
    "\n",
    "with open('PokemonDataSet.json','w') as f:\n",
    "    json.dump(Pokemons,f)"
   ]
  }
 ],
 "metadata": {
  "kernelspec": {
   "display_name": "elasticsearch",
   "language": "python",
   "name": "python3"
  },
  "language_info": {
   "codemirror_mode": {
    "name": "ipython",
    "version": 3
   },
   "file_extension": ".py",
   "mimetype": "text/x-python",
   "name": "python",
   "nbconvert_exporter": "python",
   "pygments_lexer": "ipython3",
   "version": "3.10.10"
  },
  "orig_nbformat": 4
 },
 "nbformat": 4,
 "nbformat_minor": 2
}
