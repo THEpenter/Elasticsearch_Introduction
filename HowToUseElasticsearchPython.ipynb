{
 "cells": [
  {
   "cell_type": "code",
   "execution_count": 1,
   "metadata": {},
   "outputs": [],
   "source": [
    "from elasticsearch import Elasticsearch"
   ]
  },
  {
   "attachments": {},
   "cell_type": "markdown",
   "metadata": {},
   "source": [
    "# Verbindung herstellen"
   ]
  },
  {
   "cell_type": "code",
   "execution_count": 2,
   "metadata": {},
   "outputs": [
    {
     "data": {
      "text/plain": [
       "ObjectApiResponse({'name': 'a521732bdff1', 'cluster_name': 'docker-cluster', 'cluster_uuid': 'Z_OTROEAS5KUKjzoOw_YTw', 'version': {'number': '8.6.2', 'build_flavor': 'default', 'build_type': 'docker', 'build_hash': '2d58d0f136141f03239816a4e360a8d17b6d8f29', 'build_date': '2023-02-13T09:35:20.314882762Z', 'build_snapshot': False, 'lucene_version': '9.4.2', 'minimum_wire_compatibility_version': '7.17.0', 'minimum_index_compatibility_version': '7.0.0'}, 'tagline': 'You Know, for Search'})"
      ]
     },
     "execution_count": 2,
     "metadata": {},
     "output_type": "execute_result"
    }
   ],
   "source": [
    "es = Elasticsearch([\"http://[::1]:9200\"],\n",
    "    basic_auth=(\"Student\", \"DieserVortragSollteMit_1_BewertetWerden!\"),\n",
    " )\n",
    "es.info()"
   ]
  },
  {
   "cell_type": "code",
   "execution_count": 4,
   "metadata": {},
   "outputs": [
    {
     "name": "stdout",
     "output_type": "stream",
     "text": [
      "Elasticsearch is connected!\n"
     ]
    }
   ],
   "source": [
    "# Check Connection\n",
    "if es.ping():\n",
    "    print(\"Elasticsearch is connected!\")\n",
    "else:\n",
    "    print(\"Elasticsearch is not connected!\")"
   ]
  },
  {
   "cell_type": "code",
   "execution_count": null,
   "metadata": {},
   "outputs": [],
   "source": [
    "# Überprüfen, ob Elasticsearch erreichbar ist\n",
    "def check_connection():\n",
    "    if es.ping():\n",
    "        print(\"Elasticsearch is connected!\")\n",
    "    else:\n",
    "        print(\"Elasticsearch is not connected!\")\n",
    "\n",
    "# Index erstellen\n",
    "def create_index(index_name):\n",
    "    es.indices.create(index=index_name)\n",
    "\n",
    "# Index löschen\n",
    "def delete_index(index_name):\n",
    "    es.indices.delete(index=index_name)\n",
    "\n",
    "# Dokument indizieren\n",
    "def index_document(index_name, doc_id, document):\n",
    "    es.index(index=index_name, id=doc_id, body=document)\n",
    "\n",
    "# Dokument abrufen\n",
    "def get_document(index_name, doc_id):\n",
    "    return es.get(index=index_name, id=doc_id)\n",
    "\n",
    "# Dokument aktualisieren\n",
    "def update_document(index_name, doc_id, update_body):\n",
    "    es.update(index=index_name, id=doc_id, body=update_body)\n",
    "\n",
    "# Dokument löschen\n",
    "def delete_document(index_name, doc_id):\n",
    "    es.delete(index=index_name, id=doc_id)\n",
    "\n",
    "# Einfache Suche\n",
    "def search(index_name, query):\n",
    "    return es.search(index=index_name, body={\"query\": {\"match\": query}})\n",
    "\n",
    "# Beispielverwendung\n",
    "if __name__ == \"__main__\":\n",
    "    check_connection()\n",
    "    index_name = \"example_index\"\n",
    "    doc_id = 1\n",
    "    document = {\"name\": \"John Doe\", \"age\": 30, \"city\": \"New York\"}\n",
    "\n",
    "    create_index(index_name)\n",
    "    index_document(index_name, doc_id, document)\n",
    "    print(\"Indexed document:\", get_document(index_name, doc_id))\n",
    "\n",
    "    update_body = {\"doc\": {\"age\": 31}}\n",
    "    update_document(index_name, doc_id, update_body)\n",
    "    print(\"Updated document:\", get_document(index_name, doc_id))\n",
    "\n",
    "    query = {\"name\": \"John Doe\"}\n",
    "    print(\"Search results:\", search(index_name, query))\n",
    "\n",
    "    delete_document(index_name, doc_id)\n",
    "    delete_index(index_name)"
   ]
  }
 ],
 "metadata": {
  "kernelspec": {
   "display_name": "elasticsearch",
   "language": "python",
   "name": "python3"
  },
  "language_info": {
   "codemirror_mode": {
    "name": "ipython",
    "version": 3
   },
   "file_extension": ".py",
   "mimetype": "text/x-python",
   "name": "python",
   "nbconvert_exporter": "python",
   "pygments_lexer": "ipython3",
   "version": "3.10.10"
  },
  "orig_nbformat": 4
 },
 "nbformat": 4,
 "nbformat_minor": 2
}
