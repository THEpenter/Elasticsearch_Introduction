{
 "cells": [
  {
   "cell_type": "code",
   "execution_count": 2,
   "metadata": {},
   "outputs": [],
   "source": [
    "#!pip install -r requirements.txt"
   ]
  },
  {
   "attachments": {},
   "cell_type": "markdown",
   "metadata": {},
   "source": [
    "# <center> How to Elasticsearch </center>\n",
    "This is only a short guide for the presentation, for more information see the [documentation](https://elasticsearch-py.readthedocs.io/en/v8.7.0/) or ask the AI of your trust."
   ]
  },
  {
   "cell_type": "code",
   "execution_count": 129,
   "metadata": {},
   "outputs": [],
   "source": [
    "from elasticsearch import Elasticsearch\n",
    "from os import path"
   ]
  },
  {
   "attachments": {},
   "cell_type": "markdown",
   "metadata": {},
   "source": [
    "## Establish Connection to the server\n",
    "\n",
    "Elasticsearch has a number of security features, which are\n",
    "+ Authentication: Controls access to the cluster with built-in user management.\n",
    "+ Role-based access control (RBAC): Enables fine-grained permissions management through roles.\n",
    "+ Encryption: Provides SSL/TLS for data in transit and supports encryption for data at rest\n",
    "\n",
    "None of these are enabled for this tutorial. Keep this in mind when setting up your own elasticsearch server or trying to connect to another.\n",
    "\n",
    "Elasticsearch is still a young database, and the libraries change a lot. Currently you need the same Python library version as the elasticsearch server, they are not backwards compatible!"
   ]
  },
  {
   "cell_type": "code",
   "execution_count": 11,
   "metadata": {},
   "outputs": [
    {
     "name": "stdout",
     "output_type": "stream",
     "text": [
      "Trying to connect to: http://10.0.0.168:9200\n",
      "Connection successful\n",
      " {'name': '5023a93705cc', 'cluster_name': 'docker-cluster', 'cluster_uuid': 'bU3iWkjPQ_u0F4VrBeHiXQ', 'version': {'number': '8.7.0', 'build_flavor': 'default', 'build_type': 'docker', 'build_hash': '09520b59b6bc1057340b55750186466ea715e30e', 'build_date': '2023-03-27T16:31:09.816451435Z', 'build_snapshot': False, 'lucene_version': '9.5.0', 'minimum_wire_compatibility_version': '7.17.0', 'minimum_index_compatibility_version': '7.0.0'}, 'tagline': 'You Know, for Search'}\n"
     ]
    }
   ],
   "source": [
    "if path.exists('secret.txt'):\n",
    "    with open('secret.txt','r') as f:\n",
    "        connection=f.read()\n",
    "else:\n",
    "    connection='http://0.0.0.0:9200'\n",
    "\n",
    "\n",
    "# connect to the Server\n",
    "es = Elasticsearch([connection])\n",
    "try:\n",
    "    print(\"Connection successful\\n\",es.info())\n",
    "except Exception as e:\n",
    "    print(\"ERROR! trying to connect!\\n\",e)"
   ]
  },
  {
   "attachments": {},
   "cell_type": "markdown",
   "metadata": {},
   "source": [
    "## Different terminology\n",
    "Elasticsearch is a document-oriented database, and although there are similarities to relational databases, the way data is stored, indexed and queried is different. Elasticsearch is primarily designed for search and analysis, whereas relational databases are designed for structured data and relationships between tables.\n",
    "\n",
    "| Elasticsearch      | Relational Database |\n",
    "|--------------------|---------------------|\n",
    "| Index              | Table               |\n",
    "| Document           | Row                 |\n",
    "| Field              | Column              |\n",
    "| Mapping            | Schema              |\n",
    "| Nested field       | Foreign Key / Join  |\n",
    "| _id                | Primary Key         |"
   ]
  },
  {
   "attachments": {},
   "cell_type": "markdown",
   "metadata": {},
   "source": [
    "## Lets poke around in the databse\n",
    "\n",
    "As there are no user roles, we can also see the system indexes and we do not want to touch them in this tutorial. So we will exclude them from the search.\n",
    "If you were to search with `\"*\"` you would find everything. Combining this with `\"-.*\"`, which excludes indices starting with `'.'`, we only see the four indices we want.\n",
    "<!-- for index in es.indices.get_alias(index='*,-.*'):\n",
    "    print(index) -->"
   ]
  },
  {
   "cell_type": "code",
   "execution_count": null,
   "metadata": {},
   "outputs": [],
   "source": []
  },
  {
   "attachments": {},
   "cell_type": "markdown",
   "metadata": {},
   "source": [
    "From the index pokemon, let us select a document and look at it.\n",
    "Since we do not yet know what the id looks like, we have to use a search query. \n",
    "\n",
    "The object returned is an `ObjectApiResponse`, but we can navigate in this object like in any other python `dictionary`.\n",
    "In this return we will get a lot of information like how long the query time was and so on, but we are not interested in this information, at least not for this short tutorial, we will look at the found document.\n",
    "\n",
    "To see the hits we just nagivate into `['hits']`, this will tell us how many possible documents would be eq = equal to our search.<br>\n",
    "But we also want to skip this information, so we navigate deeper with `['hits']` again.\n",
    "\n",
    "<!-- es.search(index='pokemon', size=1,query={\"match_all\": {}})['hits']['hits'] -->"
   ]
  },
  {
   "cell_type": "code",
   "execution_count": null,
   "metadata": {},
   "outputs": [],
   "source": []
  },
  {
   "attachments": {},
   "cell_type": "markdown",
   "metadata": {},
   "source": [
    "There are a few things we can learn from this document.\n",
    "The `_id` is a string, unlike in a relational database where you usually use an integer, but in elasticsearch every `_id` will always be a `string` (keep that in mind for later).\n",
    "The `_score` indicates us the relevance of the document, since we have matched all of them, the score is a 1.0 because all are of the same relevance.\n",
    "In `_source` we see the document data and therefore the fields with and values.<br>\n",
    "A Pokemon has `[PokeIndex,Name,Primary Type,Secondary Type,Evolves From,Evolves Into,Notes]` as fields.\n",
    "\n",
    "Lets asume the `_id` follows the rules how do we find the last pokemon wich has a `_id` of `0151`."
   ]
  },
  {
   "attachments": {},
   "cell_type": "markdown",
   "metadata": {},
   "source": [
    "### Search and get\n",
    "\n",
    "<!-- dict(es.get(index='pokemon', id='0151')) -->"
   ]
  },
  {
   "cell_type": "code",
   "execution_count": null,
   "metadata": {},
   "outputs": [],
   "source": []
  },
  {
   "attachments": {},
   "cell_type": "markdown",
   "metadata": {},
   "source": [
    "Lets search for Pikachu.\n",
    "<!-- dict(es.search(index='pokemon', query={\n",
    "    \"match\":{\n",
    "        \"name\":\"Pikachu\"\n",
    "    }\n",
    "}))['hits']['hits'] -->"
   ]
  },
  {
   "cell_type": "code",
   "execution_count": null,
   "metadata": {},
   "outputs": [],
   "source": []
  },
  {
   "attachments": {},
   "cell_type": "markdown",
   "metadata": {},
   "source": [
    "Search for any document that contains the name Pikachu anywhere.\n",
    "<!-- dict(es.search(index='pokemon', query={\n",
    "    \"query_string\":{\n",
    "        \"query\":\"Pikachu\"\n",
    "    }\n",
    "}))['hits'] -->"
   ]
  },
  {
   "cell_type": "code",
   "execution_count": null,
   "metadata": {},
   "outputs": [],
   "source": []
  },
  {
   "attachments": {},
   "cell_type": "markdown",
   "metadata": {},
   "source": [
    "If we look at the 4 documents found, we see different results. The more often Pickachu is mentioned, the higher the score.<br> \n",
    "In the second document, Pikachu has most of its own field, which gets a higher score than being somewhere in a text field.<br>\n",
    "And the last two documents only mention Pikachu once, but in a text way later, which lowers the relevance score. "
   ]
  },
  {
   "attachments": {},
   "cell_type": "markdown",
   "metadata": {},
   "source": [
    "Here are some search options:\n",
    "\n",
    "| Query Type        | Description                                                                                      |\n",
    "|-------------------|--------------------------------------------------------------------------------------------------|\n",
    "| `match`           | Full-text search for a single field, analyzing the query text and matching against the document field. |\n",
    "| `match_phrase`    | Searches for exact phrases in the text, with the words in the specified order.                     |\n",
    "| `match_all`       | Returns all documents in the index, usually used for testing purposes.                            |\n",
    "| `bool`            | A compound query that combines multiple queries using logical operators (e.g., `must`, `should`, `must_not`, `filter`). |\n",
    "| `term`            | Searches for exact terms in a field without analyzing the query text.                             |\n",
    "| `terms`           | Searches for multiple exact terms in a field without analyzing the query text.                    |\n",
    "| `range`           | Searches for documents with field values within a specified range (e.g., dates, numbers).         |\n",
    "| `prefix`          | Searches for documents with field values that start with the specified prefix.                    |\n",
    "| `wildcard`        | Searches for documents with field values that match a pattern with wildcards.                     |\n",
    "| `regexp`          | Searches for documents with field values that match a specified regular expression pattern.       |\n",
    "| `fuzzy`           | Searches for documents with field values that are similar to the query text based on edit distance (e.g., \"apple\" and \"appel\"). |\n",
    "| `nested`          | Searches for documents with matching nested objects in a field.                                   |\n",
    "| `query_string`    | Allows using a query string to search for documents with a more flexible syntax, including logical operators, wildcards, and field-specific searches. |\n",
    "| `geo_distance`    | Searches for documents with geo-points within a specified distance from a central point.          |\n",
    "| `geo_bounding_box`| Searches for documents with geo-points within a specified bounding box.                            |\n",
    "| `geo_polygon`     | Searches for documents with geo-points within a specified polygon.                                |"
   ]
  },
  {
   "attachments": {},
   "cell_type": "markdown",
   "metadata": {},
   "source": [
    "Lets get more complex and create a search for Pokemons without evolutions.\n",
    "So we need to create a compound query.\n",
    "Be careful to use match_phrase, otherwise elasticsearch will find no or evolution alone, which is not what we want here.\n",
    "\n",
    "<!-- es.search(index='pokemon', query={\n",
    "    \"bool\": {\n",
    "        \"must\": [\n",
    "            {\"match_phrase\": {\"Evolves from\": \"No evolution\"}},\n",
    "            {\"match_phrase\": {\"Evolves into\": \"No evolution\"}}\n",
    "            ]\n",
    "        }\n",
    "    }\n",
    ")['hits'] -->"
   ]
  },
  {
   "cell_type": "code",
   "execution_count": null,
   "metadata": {},
   "outputs": [],
   "source": []
  },
  {
   "attachments": {},
   "cell_type": "markdown",
   "metadata": {},
   "source": [
    "Try Yourself!<br>\n",
    "What is the Trainer with the badge `Clown`<br>\n",
    "You may look in the index trainer.\n",
    "\n",
    "<!-- dict(es.search(index='trainer', query={\n",
    "    \"match\":{\n",
    "        \"badges\":\"Clown\"\n",
    "    }\n",
    "}))['hits']['hits'] -->"
   ]
  },
  {
   "cell_type": "code",
   "execution_count": null,
   "metadata": {},
   "outputs": [],
   "source": []
  },
  {
   "attachments": {},
   "cell_type": "markdown",
   "metadata": {},
   "source": [
    "## Adding Stuff\n",
    "Add yourself as a trainer"
   ]
  },
  {
   "attachments": {},
   "cell_type": "markdown",
   "metadata": {},
   "source": [
    "First we need to know how is the trainer build and what rules do we have to follow\n",
    "<!-- es.indices.get_mapping(index='trainer')['trainer'] -->"
   ]
  },
  {
   "cell_type": "code",
   "execution_count": null,
   "metadata": {},
   "outputs": [],
   "source": []
  },
  {
   "attachments": {},
   "cell_type": "markdown",
   "metadata": {},
   "source": [
    "Now that we know the mapping properties, we will create ourselves as a trainer. To do this, we will use a temporary dict for a better overview\n",
    "\n",
    "<!-- tmpDocument={\n",
    "  \"first_name\": \"Patrick\",\n",
    "  \"last_name\": \"Somone\",\n",
    "  \"age\": 69,\n",
    "  \"gender\": \"male\",\n",
    "  \"pokemon\": [\n",
    "    {\n",
    "      \"id\": 132,\n",
    "      \"name\": \"Pinker ritter\",\n",
    "      \"level\": 99,\n",
    "      \"hp\": \"1337\"\n",
    "    }\n",
    "  ],\n",
    "  \"badges\": ['Geiler typ','Data Scientist','Elasticsearch Expert']\n",
    "}\n",
    "es.index(index='trainer',id=\"Something\", document=tmpDocument) -->\n",
    "\n",
    "<!-- es.search(index='trainer', size=10,query={\"match_all\": {}})['hits']['hits'] -->\n",
    "\n",
    "<!-- es.delete(index=\"trainer\", id=\"Something\") -->"
   ]
  },
  {
   "cell_type": "code",
   "execution_count": null,
   "metadata": {},
   "outputs": [],
   "source": []
  },
  {
   "cell_type": "code",
   "execution_count": null,
   "metadata": {},
   "outputs": [],
   "source": []
  },
  {
   "cell_type": "code",
   "execution_count": null,
   "metadata": {},
   "outputs": [],
   "source": []
  },
  {
   "cell_type": "code",
   "execution_count": 125,
   "metadata": {},
   "outputs": [],
   "source": []
  },
  {
   "attachments": {},
   "cell_type": "markdown",
   "metadata": {},
   "source": [
    "## Create your own index\n",
    "\n",
    "<!-- mapping = {\n",
    "    \"properties\": {\n",
    "        \"member\": {\"type\": \"text\"},\n",
    "        \"pokemon\": {\"type\": \"text\"},\n",
    "        \"blast_offs\":{\"type\":\"integer\"}\n",
    "    }\n",
    "}\n",
    "\n",
    "es.indices.create(index='team_rocket', mappings=mapping) -->"
   ]
  },
  {
   "cell_type": "code",
   "execution_count": null,
   "metadata": {},
   "outputs": [],
   "source": []
  },
  {
   "attachments": {},
   "cell_type": "markdown",
   "metadata": {},
   "source": [
    "### fill your index with one example document\n",
    "<!-- es.index(index='team_rocket', document={\"member\": \"Jessie\",\n",
    "                                        \"pokemon\": \"Arbok\",\n",
    "                                        \"blast_offs\": 123456}\n",
    "        ) -->\n",
    "\n",
    "<!-- es.search(index='team_rocket', size=10,query={\"match_all\": {}})['hits']['hits'] -->"
   ]
  },
  {
   "cell_type": "code",
   "execution_count": null,
   "metadata": {},
   "outputs": [],
   "source": []
  },
  {
   "cell_type": "code",
   "execution_count": 142,
   "metadata": {},
   "outputs": [
    {
     "data": {
      "text/plain": [
       "[{'_index': 'team_rocket',\n",
       "  '_id': 'WAM_q4cB2o45eqWzf0H3',\n",
       "  '_score': 1.0,\n",
       "  '_source': {'member': 'Jessie', 'pokemon': 'Arbok', 'blast_offs': 123456}}]"
      ]
     },
     "execution_count": 142,
     "metadata": {},
     "output_type": "execute_result"
    }
   ],
   "source": []
  }
 ],
 "metadata": {
  "kernelspec": {
   "display_name": "elasticsearch",
   "language": "python",
   "name": "python3"
  },
  "language_info": {
   "codemirror_mode": {
    "name": "ipython",
    "version": 3
   },
   "file_extension": ".py",
   "mimetype": "text/x-python",
   "name": "python",
   "nbconvert_exporter": "python",
   "pygments_lexer": "ipython3",
   "version": "3.10.10"
  },
  "orig_nbformat": 4
 },
 "nbformat": 4,
 "nbformat_minor": 2
}
