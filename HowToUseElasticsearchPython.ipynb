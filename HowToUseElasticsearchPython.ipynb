{
 "cells": [
  {
   "cell_type": "code",
   "execution_count": 2,
   "metadata": {},
   "outputs": [],
   "source": [
    "#!pip install -r requirements.txt"
   ]
  },
  {
   "attachments": {},
   "cell_type": "markdown",
   "metadata": {},
   "source": [
    "# <center> How to Elasticsearch </center>\n",
    "This is only a short guide for the presentation, for more information see the [documentation](https://elasticsearch-py.readthedocs.io/en/v8.7.0/) or ask the AI of your trust."
   ]
  },
  {
   "cell_type": "code",
   "execution_count": 24,
   "metadata": {},
   "outputs": [],
   "source": [
    "from elasticsearch import Elasticsearch\n",
    "from os import path\n",
    "from json import dumps as jdumps"
   ]
  },
  {
   "attachments": {},
   "cell_type": "markdown",
   "metadata": {},
   "source": [
    "## Establish Connection to the server\n",
    "\n",
    "Elasticsearch has a number of security features, which are\n",
    "+ Authentication: Controls access to the cluster with built-in user management.\n",
    "+ Role-based access control (RBAC): Enables fine-grained permissions management through roles.\n",
    "+ Encryption: Provides SSL/TLS for data in transit and supports encryption for data at rest\n",
    "\n",
    "None of these are enabled for this tutorial. Keep this in mind when setting up your own elasticsearch server or trying to connect to another.\n",
    "\n",
    "Elasticsearch is still a young database, and the libraries change a lot. Currently you need the same Python library version as the elasticsearch server, they are not backwards compatible!"
   ]
  },
  {
   "cell_type": "code",
   "execution_count": 11,
   "metadata": {},
   "outputs": [
    {
     "name": "stdout",
     "output_type": "stream",
     "text": [
      "Trying to connect to: http://10.0.0.168:9200\n",
      "Connection successful\n",
      " {'name': '5023a93705cc', 'cluster_name': 'docker-cluster', 'cluster_uuid': 'bU3iWkjPQ_u0F4VrBeHiXQ', 'version': {'number': '8.7.0', 'build_flavor': 'default', 'build_type': 'docker', 'build_hash': '09520b59b6bc1057340b55750186466ea715e30e', 'build_date': '2023-03-27T16:31:09.816451435Z', 'build_snapshot': False, 'lucene_version': '9.5.0', 'minimum_wire_compatibility_version': '7.17.0', 'minimum_index_compatibility_version': '7.0.0'}, 'tagline': 'You Know, for Search'}\n"
     ]
    }
   ],
   "source": [
    "if path.exists('secret.txt'):\n",
    "    with open('secret.txt','r') as f:\n",
    "        connection=f.read()\n",
    "else:\n",
    "    connection='http://0.0.0.0:9200'\n",
    "\n",
    "\n",
    "# connect to the Server\n",
    "print(\"Trying to connect to:\",connection)\n",
    "es = Elasticsearch([connection])\n",
    "try:\n",
    "    print(\"Connection successful\\n\",es.info())\n",
    "except Exception as e:\n",
    "    print(\"ERROR! trying to connect!\\n\",e)"
   ]
  },
  {
   "attachments": {},
   "cell_type": "markdown",
   "metadata": {},
   "source": [
    "## Different terminology\n",
    "Elasticsearch is a document-oriented database, and although there are similarities to relational databases, the way data is stored, indexed and queried is different. Elasticsearch is primarily designed for search and analysis, whereas relational databases are designed for structured data and relationships between tables.\n",
    "\n",
    "| Elasticsearch      | Relational Database |\n",
    "|--------------------|---------------------|\n",
    "| Index              | Table               |\n",
    "| Document           | Row                 |\n",
    "| Field              | Column              |\n",
    "| Mapping            | Schema              |\n",
    "| Nested field       | Foreign Key / Join  |\n",
    "| _id                | Primary Key         |"
   ]
  },
  {
   "attachments": {},
   "cell_type": "markdown",
   "metadata": {},
   "source": [
    "## Lets poke around in the databse\n",
    "\n",
    "As there are no user roles, we can also see the system indexes and we do not want to touch them in this tutorial. So we will exclude them from the search.\n",
    "If you were to search with `\"*\"` you would find everything. Combining this with `\"-.*\"`, which excludes indices starting with `'.'`, we only see the four indices we want."
   ]
  },
  {
   "cell_type": "code",
   "execution_count": 98,
   "metadata": {},
   "outputs": [
    {
     "name": "stdout",
     "output_type": "stream",
     "text": [
      "poke_market\n",
      "pokemon\n",
      "trainer\n",
      "arena\n"
     ]
    }
   ],
   "source": [
    "for index in es.indices.get_alias(index='*,-.*'):\n",
    "    print(index)"
   ]
  },
  {
   "attachments": {},
   "cell_type": "markdown",
   "metadata": {},
   "source": [
    "From the index pokemon, let us select a document and look at it.\n",
    "Since we do not yet know what the id looks like, we have to use a search query. \n",
    "\n",
    "The object returned is an `ObjectApiResponse`, but we can navigate in this object like in any other python `dictionary`.\n",
    "In this return we will get a lot of information like how long the query time was and so on, but we are not interested in this information, at least not for this short tutorial, we will look at the found document.\n",
    "\n",
    "To see the hits we just nagivate into `['hits']`, this will tell us how many possible documents would be eq = equal to our search.<br>\n",
    "But we also want to skip this information, so we navigate deeper with `['hits']` again."
   ]
  },
  {
   "cell_type": "code",
   "execution_count": 55,
   "metadata": {},
   "outputs": [
    {
     "data": {
      "text/plain": [
       "[{'_index': 'pokemon',\n",
       "  '_id': '0001',\n",
       "  '_score': 1.0,\n",
       "  '_source': {'PokeIndex': '0001',\n",
       "   'name': 'Bulbasaur',\n",
       "   'Primary type': 'Grass',\n",
       "   'Secondary type': 'Poison',\n",
       "   'Evolves from': 'Beginning of evolution',\n",
       "   'Evolves into': 'Ivysaur (#002)',\n",
       "   'Notes': 'It uses the nutrients that are stored in the seed on its back in order to grow. The reception of Bulbasaur has been largely positive and it often appears in \"top Pokémon lists\".[3][4] Its English name is a portmanteau of \"bulb\" and \"dinosaur\".[5]'}}]"
      ]
     },
     "execution_count": 55,
     "metadata": {},
     "output_type": "execute_result"
    }
   ],
   "source": [
    "es.search(index='pokemon', size=1,query={\"match_all\": {}})['hits']['hits']"
   ]
  },
  {
   "attachments": {},
   "cell_type": "markdown",
   "metadata": {},
   "source": [
    "There are a few things we can learn from this document.\n",
    "The `_id` is a string, unlike in a relational database where you usually use an integer, but in elasticsearch every `_id` will always be a `string` (keep that in mind for later).\n",
    "The `_score` indicates us the relevance of the document, since we have matched all of them, the score is a 1.0 because all are of the same relevance.\n",
    "In `_source` we see the document data and therefore the fields with and values.<br>\n",
    "A Pokemon has `[PokeIndex,Name,Primary Type,Secondary Type,Evolves From,Evolves Into,Notes]` as fields.\n",
    "\n",
    "Lets asume the `_id` follows the rules how do we find the last pokemon wich has a `_id` of `0151`."
   ]
  },
  {
   "attachments": {},
   "cell_type": "markdown",
   "metadata": {},
   "source": [
    "### Search and get"
   ]
  },
  {
   "cell_type": "code",
   "execution_count": 97,
   "metadata": {},
   "outputs": [
    {
     "data": {
      "text/plain": [
       "{'_index': 'pokemon',\n",
       " '_id': '0151',\n",
       " '_version': 1,\n",
       " '_seq_no': 150,\n",
       " '_primary_term': 1,\n",
       " 'found': True,\n",
       " '_source': {'PokeIndex': '0151',\n",
       "  'name': 'Mew',\n",
       "  'Primary type': 'Psychic',\n",
       "  'Secondary type': 'Psychic',\n",
       "  'Evolves from': 'No evolution',\n",
       "  'Evolves into': 'No evolution',\n",
       "  'Notes': \"This Mythical Pokemon is so rare, only a few expert worldwide have found it, though a growing number of people have reportedly seen it recently. It apparently originates in South America which were thought to be extinct. It's said that it appears only to those who have a true heart and a strong passion to see it. It's DNA is said to contain the genetic code of every Pokemon and every move. Because of this, many scientists believe that it's the ancestor of all pokemon. If you view it's body under a microscope, you can see it's fine, small and delicate hairs. It is capable of turning invisible at will so that people are unaware of its presence. It is considered one of the original pregenetor Pokémon, as all Pokémon descend from Mew. It fought Mewtwo during the Pokémon movies.\"}}"
      ]
     },
     "execution_count": 97,
     "metadata": {},
     "output_type": "execute_result"
    }
   ],
   "source": [
    "dict(es.get(index='pokemon', id='0151'))"
   ]
  },
  {
   "attachments": {},
   "cell_type": "markdown",
   "metadata": {},
   "source": [
    "Lets search for Pikachu."
   ]
  },
  {
   "cell_type": "code",
   "execution_count": 78,
   "metadata": {},
   "outputs": [
    {
     "data": {
      "text/plain": [
       "[{'_index': 'pokemon',\n",
       "  '_id': '0025',\n",
       "  '_score': 4.6555166,\n",
       "  '_source': {'PokeIndex': '0025',\n",
       "   'name': 'Pikachu',\n",
       "   'Primary type': 'Electric',\n",
       "   'Secondary type': 'Electric',\n",
       "   'Evolves from': 'Pichu (#172)',\n",
       "   'Evolves into': 'Raichu (#026) Gigantamax',\n",
       "   'Notes': \"Pikachu is the primary mascot of the Pokémon franchise, as well as Pokémon Yellow and Let's Go, Pikachu!. It is also playable in every Super Smash Bros. game. Its Gigantamax form looks like its old sprite from Red and Blue with a glowing, whitish tail. Pikachu raises its tail to check its surroundings and it might get struck by lightning in this pose. When groups gather and do this, the lightning shock would be very dangerous to be around. That's why the forests they inhabitat away from cities are very dangerous to be in. Pikachu are now adept at storing electricity and will discharge it at foes and they recharge when sleeping. Pikachu with the stretchiest and softest cheeks are more powerful, but when their tail is yanked, they'll try and bite you. It'll intelligently roast berries to cook and eat them, and it'll occasionally shock a fellow Pikachu that's a weakened state. A plan was recently announced to gather up many Pikachu and make an electric power plant. When Pikachu meet, they'll touch their tails together and exchange electricity through them as a form of greeting. If it gives off crackling power from the electric sacs on its cheeks, it is being wary.\"}}]"
      ]
     },
     "execution_count": 78,
     "metadata": {},
     "output_type": "execute_result"
    }
   ],
   "source": [
    "dict(es.search(index='pokemon', query={\n",
    "    \"match\":{\n",
    "        \"name\":\"Pikachu\"\n",
    "    }\n",
    "}))['hits']['hits']"
   ]
  },
  {
   "attachments": {},
   "cell_type": "markdown",
   "metadata": {},
   "source": [
    "Search for any document that contains the name Pikachu anywhere."
   ]
  },
  {
   "cell_type": "code",
   "execution_count": 84,
   "metadata": {},
   "outputs": [
    {
     "data": {
      "text/plain": [
       "{'total': {'value': 4, 'relation': 'eq'},\n",
       " 'max_score': 6.2525344,\n",
       " 'hits': [{'_index': 'pokemon',\n",
       "   '_id': '0025',\n",
       "   '_score': 6.2525344,\n",
       "   '_source': {'PokeIndex': '0025',\n",
       "    'name': 'Pikachu',\n",
       "    'Primary type': 'Electric',\n",
       "    'Secondary type': 'Electric',\n",
       "    'Evolves from': 'Pichu (#172)',\n",
       "    'Evolves into': 'Raichu (#026) Gigantamax',\n",
       "    'Notes': \"Pikachu is the primary mascot of the Pokémon franchise, as well as Pokémon Yellow and Let's Go, Pikachu!. It is also playable in every Super Smash Bros. game. Its Gigantamax form looks like its old sprite from Red and Blue with a glowing, whitish tail. Pikachu raises its tail to check its surroundings and it might get struck by lightning in this pose. When groups gather and do this, the lightning shock would be very dangerous to be around. That's why the forests they inhabitat away from cities are very dangerous to be in. Pikachu are now adept at storing electricity and will discharge it at foes and they recharge when sleeping. Pikachu with the stretchiest and softest cheeks are more powerful, but when their tail is yanked, they'll try and bite you. It'll intelligently roast berries to cook and eat them, and it'll occasionally shock a fellow Pikachu that's a weakened state. A plan was recently announced to gather up many Pikachu and make an electric power plant. When Pikachu meet, they'll touch their tails together and exchange electricity through them as a form of greeting. If it gives off crackling power from the electric sacs on its cheeks, it is being wary.\"}},\n",
       "  {'_index': 'pokemon',\n",
       "   '_id': '0026',\n",
       "   '_score': 4.984096,\n",
       "   '_source': {'PokeIndex': '0026',\n",
       "    'name': 'Raichu',\n",
       "    'Primary type': 'Electric',\n",
       "    'Secondary type': 'Electric',\n",
       "    'Evolves from': 'Pikachu (#025)',\n",
       "    'Evolves into': 'End of evolution',\n",
       "    'Notes': \"It's long tail serves as a ground to protect itself from electrocuting itself. That's why you'll see black patches near its nest. If enough electricity is built inside it, its muscles are stimulated, its ears will perk up, it becomes feisty and glows in the dark. Some say building up electricity stressess it out. If it's cheek pouches are empty, it'll raise its tail to gather electricity from the atmosphere. It's discharges reach 100,000 volts. Careless touching can cause an elephant to faint. Raichu has an Alolan form that is an Electric/Psychic type. Raichu and Alolan Raichu were created by Atsuko Nishida.[16]\"}},\n",
       "  {'_index': 'pokemon',\n",
       "   '_id': '0035',\n",
       "   '_score': 4.5274305,\n",
       "   '_source': {'PokeIndex': '0035',\n",
       "    'name': 'Clefairy',\n",
       "    'Primary type': 'Fairy[nb 2]',\n",
       "    'Secondary type': 'Fairy[nb 2]',\n",
       "    'Evolves from': 'Cleffa (#173)',\n",
       "    'Evolves into': 'Clefable (#036)',\n",
       "    'Notes': \"Clefairy was originally proposed to be joint mascot of the Pokémon franchise alongside Pikachu, but was quickly overshadowed by the latter's popularity. Timid creatures, they rarely come, only appearing under a full moon. People love Clefairy for its cuteness but it's too rare to be found often.\"}},\n",
       "  {'_index': 'pokemon',\n",
       "   '_id': '0021',\n",
       "   '_score': 4.362098,\n",
       "   '_source': {'PokeIndex': '0021',\n",
       "    'name': 'Spearow',\n",
       "    'Primary type': 'Normal',\n",
       "    'Secondary type': 'Flying',\n",
       "    'Evolves from': 'Beginning of evolution',\n",
       "    'Evolves into': 'Fearow (#022)',\n",
       "    'Notes': 'It eats bugs in grasslands and has to flap its short wings at high-speed to stay airborne. Spearows have short temperaments, and tend to swarm perceived enemies in large flocks. Ash Ketchum attempted to catch a Spearow without the help of his Pikachu, leading to a rather disastrous start of his journey.'}}]}"
      ]
     },
     "execution_count": 84,
     "metadata": {},
     "output_type": "execute_result"
    }
   ],
   "source": [
    "dict(es.search(index='pokemon', query={\n",
    "    \"query_string\":{\n",
    "        \"query\":\"Pikachu\"\n",
    "    }\n",
    "}))['hits']"
   ]
  },
  {
   "attachments": {},
   "cell_type": "markdown",
   "metadata": {},
   "source": [
    "If we look at the 4 documents found, we see different results. The more often Pickachu is mentioned, the higher the score.<br> \n",
    "In the second document, Pikachu has most of its own field, which gets a higher score than being somewhere in a text field.<br>\n",
    "And the last two documents only mention Pikachu once, but in a text way later, which lowers the relevance score. "
   ]
  },
  {
   "attachments": {},
   "cell_type": "markdown",
   "metadata": {},
   "source": [
    "Here are some search options:\n",
    "\n",
    "| Query Type        | Description                                                                                      |\n",
    "|-------------------|--------------------------------------------------------------------------------------------------|\n",
    "| `match`           | Full-text search for a single field, analyzing the query text and matching against the document field. |\n",
    "| `match_phrase`    | Searches for exact phrases in the text, with the words in the specified order.                     |\n",
    "| `match_all`       | Returns all documents in the index, usually used for testing purposes.                            |\n",
    "| `bool`            | A compound query that combines multiple queries using logical operators (e.g., `must`, `should`, `must_not`, `filter`). |\n",
    "| `term`            | Searches for exact terms in a field without analyzing the query text.                             |\n",
    "| `terms`           | Searches for multiple exact terms in a field without analyzing the query text.                    |\n",
    "| `range`           | Searches for documents with field values within a specified range (e.g., dates, numbers).         |\n",
    "| `prefix`          | Searches for documents with field values that start with the specified prefix.                    |\n",
    "| `wildcard`        | Searches for documents with field values that match a pattern with wildcards.                     |\n",
    "| `regexp`          | Searches for documents with field values that match a specified regular expression pattern.       |\n",
    "| `fuzzy`           | Searches for documents with field values that are similar to the query text based on edit distance (e.g., \"apple\" and \"appel\"). |\n",
    "| `nested`          | Searches for documents with matching nested objects in a field.                                   |\n",
    "| `query_string`    | Allows using a query string to search for documents with a more flexible syntax, including logical operators, wildcards, and field-specific searches. |\n",
    "| `geo_distance`    | Searches for documents with geo-points within a specified distance from a central point.          |\n",
    "| `geo_bounding_box`| Searches for documents with geo-points within a specified bounding box.                            |\n",
    "| `geo_polygon`     | Searches for documents with geo-points within a specified polygon.                                |"
   ]
  },
  {
   "attachments": {},
   "cell_type": "markdown",
   "metadata": {},
   "source": [
    "[TRY YOURSELF] Lets Try to find all `rare` Pokemons."
   ]
  },
  {
   "cell_type": "code",
   "execution_count": 94,
   "metadata": {},
   "outputs": [
    {
     "data": {
      "text/plain": [
       "{'total': {'value': 7, 'relation': 'eq'},\n",
       " 'max_score': 8.331094,\n",
       " 'hits': [{'_index': 'pokemon',\n",
       "   '_id': '0128',\n",
       "   '_score': 8.331094,\n",
       "   '_source': {'PokeIndex': '0128',\n",
       "    'name': 'Tauros',\n",
       "    'Primary type': 'Normal',\n",
       "    'Secondary type': 'Normal',\n",
       "    'Evolves from': 'No evolution',\n",
       "    'Evolves into': 'No evolution',\n",
       "    'Notes': \"When attacking, it violently charges while whipping its self with its three tails. A really rowdy and hyper pokemon, once it charges, it won't stop until it hits something. Although powerful, it can only charge in a straight line. They fight each other by locking horns to prove their strength, and the leader prides itself with its battle scared horns. If there's no opponents, it will charge into thick trees, knocking them down. Historically, people have ridden Tauros for ages, but the practice started in Alola, and Tauros in Alola actually have a calm side, most likely due to the climate. Tauros in Galar though are more volatile and won't let people ride on them. In Paldea, it has 3 other forms, with it now being a fighting type along with a Fighting/Fire and a Fighting/Water type.\"}},\n",
       "  {'_index': 'pokemon',\n",
       "   '_id': '0132',\n",
       "   '_score': 8.331094,\n",
       "   '_source': {'PokeIndex': '0132',\n",
       "    'name': 'Ditto',\n",
       "    'Primary type': 'Normal',\n",
       "    'Secondary type': 'Normal',\n",
       "    'Evolves from': 'No evolution',\n",
       "    'Evolves into': 'No evolution',\n",
       "    'Notes': 'Ditto is capable of transforming into any Pokémon that it comes across. It was originally intended to have an evolution in Generation II called \"Animon\" which it would have evolved from a Metal Coat. Fan speculation is that Ditto and Mew are related as Mew can also use Transform, a move exclusive to Ditto. In the anime, Ditto belonging to Duplica had an issue with accurately mimicking appearances where its face always looked like Ditto\\'s own. It appears as a pink blob or amoeba.'}},\n",
       "  {'_index': 'pokemon',\n",
       "   '_id': '0144',\n",
       "   '_score': 8.331094,\n",
       "   '_source': {'PokeIndex': '0144',\n",
       "    'name': 'Articuno',\n",
       "    'Primary type': 'Ice',\n",
       "    'Secondary type': 'Flying',\n",
       "    'Evolves from': 'No evolution',\n",
       "    'Evolves into': 'No evolution',\n",
       "    'Notes': 'It is part of the Legendary Bird Trio. The naming conventions for this trio are based on their type – Arctic, Zap and Molt – along with 1, 2, 3 in Spanish – uno, dos, tres respectively. This Legendary Pokemon is said to appear to doomed people who are lost in icy mountains. Articuno can control snow, and it freezes moisture in the air to make it snow, and where ever it flies, snow is constantly falling, creating blizzards. Its lovely, seemingly translucent wings are said to be made out of ice. Its Galarian form is a Psychic/Flying type.'}},\n",
       "  {'_index': 'pokemon',\n",
       "   '_id': '0145',\n",
       "   '_score': 8.331094,\n",
       "   '_source': {'PokeIndex': '0145',\n",
       "    'name': 'Zapdos',\n",
       "    'Primary type': 'Electric',\n",
       "    'Secondary type': 'Flying',\n",
       "    'Evolves from': 'No evolution',\n",
       "    'Evolves into': 'No evolution',\n",
       "    'Notes': \"It is part of the Legendary Bird Trio. Its design is inspired by the Indigenous North American myth of the thunderbird.[18] This Legendary Pokemon is said to cause and appear from dark and gray clouds in the sky while dropping huge thunderbolts. It flies with the crackle and buzz of electricity. It has the power to control electricity and anyone that gets struck by its lightning can gain power from it. It's said that when it rubs its feathers together, lightning will fall immediately after and there are tales of Zapdos resting in pitch black thunderclouds. Its Galarian form is a Fighting/Flying type.\"}},\n",
       "  {'_index': 'pokemon',\n",
       "   '_id': '0146',\n",
       "   '_score': 8.331094,\n",
       "   '_source': {'PokeIndex': '0146',\n",
       "    'name': 'Moltres',\n",
       "    'Primary type': 'Fire',\n",
       "    'Secondary type': 'Flying',\n",
       "    'Evolves from': 'No evolution',\n",
       "    'Evolves into': 'No evolution',\n",
       "    'Notes': \"It is part of the Legendary Bird Trio. Its design is inspired by the firebird of Slavic folklore.[18] This Legendary Pokemon can make the sky turn red as it flaps its fiery wings, creating a dazzling flash of fire. It's truly a sight to see. It's said to bring spring early when it arrives to lands. If Moltres is injured, it's said to dip itself in magma to burn and heal itself. Those who see it are overwhelmed by its orange fiery wings. There are stories that tell of its fire cloaked wings lighting up paths for those lost traveling in the mountains. Its Galarian form is a Dark/Flying type.\"}},\n",
       "  {'_index': 'pokemon',\n",
       "   '_id': '0151',\n",
       "   '_score': 8.331094,\n",
       "   '_source': {'PokeIndex': '0151',\n",
       "    'name': 'Mew',\n",
       "    'Primary type': 'Psychic',\n",
       "    'Secondary type': 'Psychic',\n",
       "    'Evolves from': 'No evolution',\n",
       "    'Evolves into': 'No evolution',\n",
       "    'Notes': \"This Mythical Pokemon is so rare, only a few expert worldwide have found it, though a growing number of people have reportedly seen it recently. It apparently originates in South America which were thought to be extinct. It's said that it appears only to those who have a true heart and a strong passion to see it. It's DNA is said to contain the genetic code of every Pokemon and every move. Because of this, many scientists believe that it's the ancestor of all pokemon. If you view it's body under a microscope, you can see it's fine, small and delicate hairs. It is capable of turning invisible at will so that people are unaware of its presence. It is considered one of the original pregenetor Pokémon, as all Pokémon descend from Mew. It fought Mewtwo during the Pokémon movies.\"}},\n",
       "  {'_index': 'pokemon',\n",
       "   '_id': '0083',\n",
       "   '_score': 6.1154466,\n",
       "   '_source': {'PokeIndex': '0083',\n",
       "    'name': \"Farfetch'd\",\n",
       "    'Primary type': 'Normal',\n",
       "    'Secondary type': 'Flying',\n",
       "    'Evolves from': 'No evolution[nb 5]',\n",
       "    'Evolves into': 'No evolution[nb 5]',\n",
       "    'Notes': 'Farfetch\\'d is a duck-like Pokémon that carries around a green onion stalk much like a sword. It apparently knows where the best ones are and will battle over them. It will eat them in emergencies, then it\\'ll run off to find a new one. They were so rare at one point that people bred them to regrow the population, and it worked. There are good stalks and bad stalks, and since it can\\'t live with out them, it will defend it with its life. It was originally called \"Okupan\" in early development and was intended to have an evolution named \"Madame\" in Generation II\\'s early development. Its Galarian form is a Fighting type, appears to resemble a feudal Japan-style samurai or ronin, and uses a larger onion-stalk. In Pokémon Go, it is exclusive to certain regions of Asia.'}}]}"
      ]
     },
     "execution_count": 94,
     "metadata": {},
     "output_type": "execute_result"
    }
   ],
   "source": [
    "es.search(index='pokemon', query={\n",
    "    \"bool\": {\n",
    "        \"must\": [\n",
    "            {\"match_phrase\": {\"Evolves from\": \"No evolution\"}},\n",
    "            {\"match_phrase\": {\"Evolves into\": \"No evolution\"}}\n",
    "            ]\n",
    "        }\n",
    "    }\n",
    ")['hits']"
   ]
  },
  {
   "cell_type": "code",
   "execution_count": 33,
   "metadata": {},
   "outputs": [
    {
     "data": {
      "text/plain": [
       "{'Evolves from': {'type': 'text'},\n",
       " 'Evolves into': {'type': 'text'},\n",
       " 'Notes': {'type': 'text'},\n",
       " 'PokeIndex': {'type': 'integer'},\n",
       " 'Primary type': {'type': 'text'},\n",
       " 'Secondary type': {'type': 'text'},\n",
       " 'name': {'type': 'text'}}"
      ]
     },
     "execution_count": 33,
     "metadata": {},
     "output_type": "execute_result"
    }
   ],
   "source": [
    "es.indices.get_mapping(index='pokemon')['pokemon']['mappings']['properties']"
   ]
  },
  {
   "attachments": {},
   "cell_type": "markdown",
   "metadata": {},
   "source": [
    "es.indices.get_mapping(index=index_name)"
   ]
  },
  {
   "cell_type": "code",
   "execution_count": null,
   "metadata": {},
   "outputs": [],
   "source": [
    "# Überprüfen, ob Elasticsearch erreichbar ist\n",
    "def check_connection():\n",
    "    if es.ping():\n",
    "        print(\"Elasticsearch is connected!\")\n",
    "    else:\n",
    "        print(\"Elasticsearch is not connected!\")\n",
    "\n",
    "# Index erstellen\n",
    "def create_index(index_name):\n",
    "    es.indices.create(index=index_name)\n",
    "\n",
    "# Index löschen\n",
    "def delete_index(index_name):\n",
    "    es.indices.delete(index=index_name)\n",
    "\n",
    "# Dokument indizieren\n",
    "def index_document(index_name, doc_id, document):\n",
    "    es.index(index=index_name, id=doc_id, body=document)\n",
    "\n",
    "# Dokument abrufen\n",
    "def get_document(index_name, doc_id):\n",
    "    return es.get(index=index_name, id=doc_id)\n",
    "\n",
    "# Dokument aktualisieren\n",
    "def update_document(index_name, doc_id, update_body):\n",
    "    es.update(index=index_name, id=doc_id, body=update_body)\n",
    "\n",
    "# Dokument löschen\n",
    "def delete_document(index_name, doc_id):\n",
    "    es.delete(index=index_name, id=doc_id)\n",
    "\n",
    "# Einfache Suche\n",
    "def search(index_name, query):\n",
    "    return es.search(index=index_name, body={\"query\": {\"match\": query}})\n",
    "\n",
    "# Beispielverwendung\n",
    "if __name__ == \"__main__\":\n",
    "    check_connection()\n",
    "    index_name = \"example_index\"\n",
    "    doc_id = 1\n",
    "    document = {\"name\": \"John Doe\", \"age\": 30, \"city\": \"New York\"}\n",
    "\n",
    "    create_index(index_name)\n",
    "    index_document(index_name, doc_id, document)\n",
    "    print(\"Indexed document:\", get_document(index_name, doc_id))\n",
    "\n",
    "    update_body = {\"doc\": {\"age\": 31}}\n",
    "    update_document(index_name, doc_id, update_body)\n",
    "    print(\"Updated document:\", get_document(index_name, doc_id))\n",
    "\n",
    "    query = {\"name\": \"John Doe\"}\n",
    "    print(\"Search results:\", search(index_name, query))\n",
    "\n",
    "    delete_document(index_name, doc_id)\n",
    "    delete_index(index_name)"
   ]
  }
 ],
 "metadata": {
  "kernelspec": {
   "display_name": "elasticsearch",
   "language": "python",
   "name": "python3"
  },
  "language_info": {
   "codemirror_mode": {
    "name": "ipython",
    "version": 3
   },
   "file_extension": ".py",
   "mimetype": "text/x-python",
   "name": "python",
   "nbconvert_exporter": "python",
   "pygments_lexer": "ipython3",
   "version": "3.10.10"
  },
  "orig_nbformat": 4
 },
 "nbformat": 4,
 "nbformat_minor": 2
}
